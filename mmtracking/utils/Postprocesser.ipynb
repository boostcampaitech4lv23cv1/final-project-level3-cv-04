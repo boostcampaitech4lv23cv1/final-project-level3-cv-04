{
 "cells": [
  {
   "cell_type": "code",
   "execution_count": 214,
   "metadata": {},
   "outputs": [],
   "source": [
    "import pandas as pd\n",
    "import json\n",
    "import numpy as np"
   ]
  },
  {
   "attachments": {},
   "cell_type": "markdown",
   "metadata": {},
   "source": [
    "```\n",
    "postprocessing  \n",
    "intput: df, meta  \n",
    "output: df  \n",
    "description:  \n",
    "하는 것은  \n",
    "1️⃣ 너무 1초 미만의 등장인물 삭제\n",
    "2️⃣ 클립  \n",
    "⭐ 스케일링\n",
    "```"
   ]
  },
  {
   "cell_type": "code",
   "execution_count": 215,
   "metadata": {},
   "outputs": [],
   "source": [
    "def postprocessing(df1:pd.DataFrame, meta_info:dict, sec:int=5)->pd.DataFrame:\n",
    "    # del short length ids, threshold 3sec\n",
    "    df1 = df1.copy()\n",
    "    high_rating_id_cnt = 0\n",
    "    print(f\"before filtering id_cnt: {len(df1['track_id'].unique())}\")\n",
    "\n",
    "    for id in df1['track_id'].unique():\n",
    "        if np.isnan(id): # nan id pass\n",
    "            continue\n",
    "\n",
    "        if len(df1[df1['track_id'] == id]) > meta_info['fps']*sec:\n",
    "            high_rating_id_cnt+=1\n",
    "        else:\n",
    "            df1.loc[df1['track_id'] == id,'track_id'] = np.NaN\n",
    "    \n",
    "    print(f'after filtering high_rating_id_cnt: {high_rating_id_cnt}')\n",
    "\n",
    "    # clip\n",
    "    df1['track_body_xmin'] = df1['track_body_xmin'].clip(0, meta_info['width'])\n",
    "    df1['track_body_xmax'] = df1['track_body_xmax'].clip(0, meta_info['width'])\n",
    "    df1['track_body_ymin'] = df1['track_body_ymin'].clip(0, meta_info['height'])\n",
    "    df1['track_body_ymax'] = df1['track_body_ymax'].clip(0, meta_info['height'])\n",
    "    \n",
    "    # scailing\n",
    "    df1.loc[df1['track_id'].notna(), 'track_body_xmin'] = df1.loc[df1['track_id'].notna(), 'track_body_xmin']/meta_info['width']\n",
    "    df1.loc[df1['track_id'].notna(), 'track_body_xmax'] = df1.loc[df1['track_id'].notna(), 'track_body_xmin']/meta_info['width']\n",
    "    df1.loc[df1['track_id'].notna(), 'track_body_ymin'] = df1.loc[df1['track_id'].notna(), 'track_body_xmin']/meta_info['height']\n",
    "    df1.loc[df1['track_id'].notna(), 'track_body_ymax'] = df1.loc[df1['track_id'].notna(), 'track_body_xmin']/meta_info['height']\n",
    "    \n",
    "    postprocessed_df1 = df1\n",
    "    return postprocessed_df1"
   ]
  },
  {
   "attachments": {},
   "cell_type": "markdown",
   "metadata": {},
   "source": [
    "```\n",
    "A value is trying to be set on a copy of a slice from a DataFrame.\n",
    "Try using .loc[row_indexer,col_indexer] = value instead\n",
    "\n",
    "# 원본에 영향을 미치기 때문에 위와같은 오류 문구를 출력함\n",
    "```"
   ]
  }
 ],
 "metadata": {
  "kernelspec": {
   "display_name": "base",
   "language": "python",
   "name": "python3"
  },
  "language_info": {
   "codemirror_mode": {
    "name": "ipython",
    "version": 3
   },
   "file_extension": ".py",
   "mimetype": "text/x-python",
   "name": "python",
   "nbconvert_exporter": "python",
   "pygments_lexer": "ipython3",
   "version": "3.8.5"
  },
  "orig_nbformat": 4,
  "vscode": {
   "interpreter": {
    "hash": "d4d1e4263499bec80672ea0156c357c1ee493ec2b1c70f0acce89fc37c4a6abe"
   }
  }
 },
 "nbformat": 4,
 "nbformat_minor": 2
}
